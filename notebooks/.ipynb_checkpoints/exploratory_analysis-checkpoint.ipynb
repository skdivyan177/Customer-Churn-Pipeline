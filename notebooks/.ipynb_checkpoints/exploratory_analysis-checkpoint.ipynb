{
  "cells": [
    {
      "cell_type": "markdown",
      "metadata": {},
      "source": [
        "# Exploratory Data Analysis: Subscriber Retention\n",
        "\n",
        "This notebook performs basic EDA on the Telco Subscriber dataset loaded from SQLite."
      ]
    },
    {
      "cell_type": "code",
      "execution_count": null,
      "metadata": {},
      "outputs": [],
      "source": [
        "import pandas as pd\n",
        "import numpy as np\n",
        "import sqlite3\n",
        "import matplotlib.pyplot as plt\n",
        "\n",
        "%matplotlib inline"
      ]
    },
    {
      "cell_type": "code",
      "execution_count": null,
      "metadata": {},
      "outputs": [],
      "source": [
        "# Load data from the SQLite database churn.db\n",
        "conn = sqlite3.connect(\"churn.db\")\n",
        "df = pd.read_sql(\"SELECT * FROM raw_customers\", conn)\n",
        "conn.close()\n",
        "\n",
        "df.head()"
      ]
    },
    {
      "cell_type": "code",
      "execution_count": null,
      "metadata": {},
      "outputs": [],
      "source": [
        "# Check data info and missing values\n",
        "df.info()\n",
        "df.isnull().sum()"
      ]
    },
    {
      "cell_type": "code",
      "execution_count": null,
      "metadata": {},
      "outputs": [],
      "source": [
        "# Convert 'TotalCharges' to numeric and fill any NaNs\n",
        "df[\"TotalCharges\"] = pd.to_numeric(df[\"TotalCharges\"], errors=\"coerce\")\n",
        "df[\"TotalCharges\"].fillna(df[\"TotalCharges\"].median(), inplace=True)\n",
        "\n",
        "# Display updated info\n",
        "df.info()"
      ]
    },
    {
      "cell_type": "markdown",
      "metadata": {},
      "source": [
        "## Distribution of Monthly Charges"
      ]
    },
    {
      "cell_type": "code",
      "execution_count": null,
      "metadata": {},
      "outputs": [],
      "source": [
        "plt.hist(df[\"MonthlyCharges\"], bins=30)\n",
        "plt.title(\"Distribution of Monthly Charges\")\n",
        "plt.xlabel(\"MonthlyCharges\")\n",
        "plt.ylabel(\"Count\")\n",
        "plt.show()"
      ]
    },
    {
      "cell_type": "markdown",
      "metadata": {},
      "source": [
        "## Churn Rate by Contract Type"
      ]
    },
    {
      "cell_type": "code",
      "execution_count": null,
      "metadata": {},
      "outputs": [],
      "source": [
        "# Create a binary flag for churn\n",
        "df[\"Churn_flag\"] = df[\"Churn\"].map({\"Yes\": 1, \"No\": 0})\n",
        "\n",
        "# Compute churn rate by Contract\n",
        "churn_by_contract = df.groupby(\"Contract\")[\"Churn_flag\"].mean()\n",
        "churn_by_contract.plot(kind=\"bar\", title=\"Churn Rate by Contract Type\")\n",
        "plt.ylabel(\"Churn Rate\")\n",
        "plt.show()"
      ]
    },
    {
      "cell_type": "markdown",
      "metadata": {},
      "source": [
        "## Correlation Heatmap (Numeric Features)"
      ]
    },
    {
      "cell_type": "code",
      "execution_count": null,
      "metadata": {},
      "outputs": [],
      "source": [
        "import seaborn as sns\n",
        "\n",
        "# Convert all \"Yes\"/\"No\" columns to numeric for correlation\n",
        "temp = df.copy()\n",
        "yes_no_cols = [col for col in temp.select_dtypes(include=\"object\").columns if temp[col].nunique() == 2]\n",
        "for col in yes_no_cols:\n",
        "    temp[col] = temp[col].replace({\"Yes\": 1, \"No\": 0})\n",
        "\n",
        "corr = temp.drop(columns=[\"customerID\"], errors=\"ignore\").corr()\n",
        "plt.figure(figsize=(12, 10))\n",
        "sns.heatmap(corr, cmap=\"coolwarm\", fmt=\".2f\")\n",
        "plt.title(\"Feature Correlation Matrix\")\n",
        "plt.show()"
      ]
    },
    {
      "cell_type": "markdown",
      "metadata": {},
      "source": [
        "*End of EDA notebook.*"
      ]
    }
  ],
  "metadata": {
    "kernelspec": {
      "display_name": "Python 3",
      "language": "python",
      "name": "python3"
    },
    "language_info": {
      "codemirror_mode": {
        "name": "ipython",
        "version": 3
      },
      "file_extension": ".py",
      "mimetype": "text/x-python",
      "name": "python",
      "nbconvert_exporter": "python",
      "pygments_lexer": "ipython3",
      "version": "3.11"
    }
  },
  "nbformat": 4,
  "nbformat_minor": 5
}
