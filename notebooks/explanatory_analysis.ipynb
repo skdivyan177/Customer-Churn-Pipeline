{
  "cells": [
    {
      "cell_type": "markdown",
      "metadata": {},
      "source": [
        "# This is a Markdown cell\n",
        "You can write **formatted** text here."
      ]
    },
    {
      "cell_type": "code",
      "execution_count": 1,
      "metadata": {},
      "outputs": [
        {
          "output_type": "stream",
          "name": "stdout",
          "text": ["Hello, world!\n"]
        }
      ],
      "source": ["print(\"Hello, world!\")"]
    }
  ],
  "metadata": { ... },
  "nbformat": 4,
  "nbformat_minor": 5
}
